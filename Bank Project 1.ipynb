{
 "cells": [
  {
   "cell_type": "markdown",
   "metadata": {},
   "source": [
    "## Analyzing borrowers’ risk of defaulting\n",
    "\n",
    "Your project is to prepare a report for a bank’s loan division. You’ll need to find out if a customer’s marital status and number of children has an impact on whether they will default on a loan. The bank already has some data on customers’ credit worthiness.\n",
    "\n",
    "Your report will be considered when building a **credit scoring** of a potential customer. A ** credit scoring ** is used to evaluate the ability of a potential borrower to repay their loan."
   ]
  },
  {
   "cell_type": "markdown",
   "metadata": {},
   "source": [
    "### Step 1. Open the data file and have a look at the general information. "
   ]
  },
  {
   "cell_type": "code",
   "execution_count": 1,
   "metadata": {},
   "outputs": [],
   "source": [
    "import pandas as pd"
   ]
  },
  {
   "cell_type": "code",
   "execution_count": 2,
   "metadata": {},
   "outputs": [],
   "source": [
    "df = pd.read_csv('credit_scoring_eng.csv')"
   ]
  },
  {
   "cell_type": "code",
   "execution_count": 3,
   "metadata": {},
   "outputs": [
    {
     "data": {
      "text/html": [
       "<div>\n",
       "<style scoped>\n",
       "    .dataframe tbody tr th:only-of-type {\n",
       "        vertical-align: middle;\n",
       "    }\n",
       "\n",
       "    .dataframe tbody tr th {\n",
       "        vertical-align: top;\n",
       "    }\n",
       "\n",
       "    .dataframe thead th {\n",
       "        text-align: right;\n",
       "    }\n",
       "</style>\n",
       "<table border=\"1\" class=\"dataframe\">\n",
       "  <thead>\n",
       "    <tr style=\"text-align: right;\">\n",
       "      <th></th>\n",
       "      <th>children</th>\n",
       "      <th>days_employed</th>\n",
       "      <th>dob_years</th>\n",
       "      <th>education</th>\n",
       "      <th>education_id</th>\n",
       "      <th>family_status</th>\n",
       "      <th>family_status_id</th>\n",
       "      <th>gender</th>\n",
       "      <th>income_type</th>\n",
       "      <th>debt</th>\n",
       "      <th>total_income</th>\n",
       "      <th>purpose</th>\n",
       "    </tr>\n",
       "  </thead>\n",
       "  <tbody>\n",
       "    <tr>\n",
       "      <td>0</td>\n",
       "      <td>1</td>\n",
       "      <td>-8437.673028</td>\n",
       "      <td>42</td>\n",
       "      <td>masters degree</td>\n",
       "      <td>0</td>\n",
       "      <td>married</td>\n",
       "      <td>0</td>\n",
       "      <td>F</td>\n",
       "      <td>employee</td>\n",
       "      <td>0</td>\n",
       "      <td>253875.639453</td>\n",
       "      <td>purchase of the house</td>\n",
       "    </tr>\n",
       "    <tr>\n",
       "      <td>1</td>\n",
       "      <td>1</td>\n",
       "      <td>-4024.803754</td>\n",
       "      <td>36</td>\n",
       "      <td>secondary education</td>\n",
       "      <td>1</td>\n",
       "      <td>married</td>\n",
       "      <td>0</td>\n",
       "      <td>F</td>\n",
       "      <td>employee</td>\n",
       "      <td>0</td>\n",
       "      <td>112080.014102</td>\n",
       "      <td>car purchase</td>\n",
       "    </tr>\n",
       "    <tr>\n",
       "      <td>2</td>\n",
       "      <td>0</td>\n",
       "      <td>-5623.422610</td>\n",
       "      <td>33</td>\n",
       "      <td>Secondary Education</td>\n",
       "      <td>1</td>\n",
       "      <td>married</td>\n",
       "      <td>0</td>\n",
       "      <td>M</td>\n",
       "      <td>employee</td>\n",
       "      <td>0</td>\n",
       "      <td>145885.952297</td>\n",
       "      <td>purchase of the house</td>\n",
       "    </tr>\n",
       "    <tr>\n",
       "      <td>3</td>\n",
       "      <td>3</td>\n",
       "      <td>-4124.747207</td>\n",
       "      <td>32</td>\n",
       "      <td>secondary education</td>\n",
       "      <td>1</td>\n",
       "      <td>married</td>\n",
       "      <td>0</td>\n",
       "      <td>M</td>\n",
       "      <td>employee</td>\n",
       "      <td>0</td>\n",
       "      <td>267628.550329</td>\n",
       "      <td>supplementary education</td>\n",
       "    </tr>\n",
       "    <tr>\n",
       "      <td>4</td>\n",
       "      <td>0</td>\n",
       "      <td>340266.072047</td>\n",
       "      <td>53</td>\n",
       "      <td>secondary education</td>\n",
       "      <td>1</td>\n",
       "      <td>civil partnership</td>\n",
       "      <td>1</td>\n",
       "      <td>F</td>\n",
       "      <td>retiree</td>\n",
       "      <td>0</td>\n",
       "      <td>158616.077870</td>\n",
       "      <td>to have a wedding</td>\n",
       "    </tr>\n",
       "    <tr>\n",
       "      <td>5</td>\n",
       "      <td>0</td>\n",
       "      <td>-926.185831</td>\n",
       "      <td>27</td>\n",
       "      <td>masters degree</td>\n",
       "      <td>0</td>\n",
       "      <td>civil partnership</td>\n",
       "      <td>1</td>\n",
       "      <td>M</td>\n",
       "      <td>partner</td>\n",
       "      <td>0</td>\n",
       "      <td>255763.565419</td>\n",
       "      <td>purchase of the house</td>\n",
       "    </tr>\n",
       "    <tr>\n",
       "      <td>6</td>\n",
       "      <td>0</td>\n",
       "      <td>-2879.202052</td>\n",
       "      <td>43</td>\n",
       "      <td>masters degree</td>\n",
       "      <td>0</td>\n",
       "      <td>married</td>\n",
       "      <td>0</td>\n",
       "      <td>F</td>\n",
       "      <td>partner</td>\n",
       "      <td>0</td>\n",
       "      <td>240525.971920</td>\n",
       "      <td>housing transactions</td>\n",
       "    </tr>\n",
       "    <tr>\n",
       "      <td>7</td>\n",
       "      <td>0</td>\n",
       "      <td>-152.779569</td>\n",
       "      <td>50</td>\n",
       "      <td>SECONDARY EDUCATION</td>\n",
       "      <td>1</td>\n",
       "      <td>married</td>\n",
       "      <td>0</td>\n",
       "      <td>M</td>\n",
       "      <td>employee</td>\n",
       "      <td>0</td>\n",
       "      <td>135823.934197</td>\n",
       "      <td>education</td>\n",
       "    </tr>\n",
       "    <tr>\n",
       "      <td>8</td>\n",
       "      <td>2</td>\n",
       "      <td>-6929.865299</td>\n",
       "      <td>35</td>\n",
       "      <td>MASTERS DEGREE</td>\n",
       "      <td>0</td>\n",
       "      <td>civil partnership</td>\n",
       "      <td>1</td>\n",
       "      <td>F</td>\n",
       "      <td>employee</td>\n",
       "      <td>0</td>\n",
       "      <td>95856.832424</td>\n",
       "      <td>having a wedding</td>\n",
       "    </tr>\n",
       "    <tr>\n",
       "      <td>9</td>\n",
       "      <td>0</td>\n",
       "      <td>-2188.756445</td>\n",
       "      <td>41</td>\n",
       "      <td>secondary education</td>\n",
       "      <td>1</td>\n",
       "      <td>married</td>\n",
       "      <td>0</td>\n",
       "      <td>M</td>\n",
       "      <td>employee</td>\n",
       "      <td>0</td>\n",
       "      <td>144425.938277</td>\n",
       "      <td>purchase of the house for my family</td>\n",
       "    </tr>\n",
       "  </tbody>\n",
       "</table>\n",
       "</div>"
      ],
      "text/plain": [
       "   children  days_employed  dob_years            education  education_id  \\\n",
       "0         1   -8437.673028         42       masters degree             0   \n",
       "1         1   -4024.803754         36  secondary education             1   \n",
       "2         0   -5623.422610         33  Secondary Education             1   \n",
       "3         3   -4124.747207         32  secondary education             1   \n",
       "4         0  340266.072047         53  secondary education             1   \n",
       "5         0    -926.185831         27       masters degree             0   \n",
       "6         0   -2879.202052         43       masters degree             0   \n",
       "7         0    -152.779569         50  SECONDARY EDUCATION             1   \n",
       "8         2   -6929.865299         35       MASTERS DEGREE             0   \n",
       "9         0   -2188.756445         41  secondary education             1   \n",
       "\n",
       "       family_status  family_status_id gender income_type  debt  \\\n",
       "0            married                 0      F    employee     0   \n",
       "1            married                 0      F    employee     0   \n",
       "2            married                 0      M    employee     0   \n",
       "3            married                 0      M    employee     0   \n",
       "4  civil partnership                 1      F     retiree     0   \n",
       "5  civil partnership                 1      M     partner     0   \n",
       "6            married                 0      F     partner     0   \n",
       "7            married                 0      M    employee     0   \n",
       "8  civil partnership                 1      F    employee     0   \n",
       "9            married                 0      M    employee     0   \n",
       "\n",
       "    total_income                              purpose  \n",
       "0  253875.639453                purchase of the house  \n",
       "1  112080.014102                         car purchase  \n",
       "2  145885.952297                purchase of the house  \n",
       "3  267628.550329              supplementary education  \n",
       "4  158616.077870                    to have a wedding  \n",
       "5  255763.565419                purchase of the house  \n",
       "6  240525.971920                 housing transactions  \n",
       "7  135823.934197                            education  \n",
       "8   95856.832424                     having a wedding  \n",
       "9  144425.938277  purchase of the house for my family  "
      ]
     },
     "execution_count": 3,
     "metadata": {},
     "output_type": "execute_result"
    }
   ],
   "source": [
    "df.head(10)"
   ]
  },
  {
   "cell_type": "code",
   "execution_count": 4,
   "metadata": {},
   "outputs": [
    {
     "name": "stdout",
     "output_type": "stream",
     "text": [
      "<class 'pandas.core.frame.DataFrame'>\n",
      "RangeIndex: 21525 entries, 0 to 21524\n",
      "Data columns (total 12 columns):\n",
      "children            21525 non-null int64\n",
      "days_employed       19351 non-null float64\n",
      "dob_years           21525 non-null int64\n",
      "education           21525 non-null object\n",
      "education_id        21525 non-null int64\n",
      "family_status       21525 non-null object\n",
      "family_status_id    21525 non-null int64\n",
      "gender              21525 non-null object\n",
      "income_type         21525 non-null object\n",
      "debt                21525 non-null int64\n",
      "total_income        19351 non-null float64\n",
      "purpose             21525 non-null object\n",
      "dtypes: float64(2), int64(5), object(5)\n",
      "memory usage: 2.0+ MB\n"
     ]
    }
   ],
   "source": [
    "df.info()"
   ]
  },
  {
   "cell_type": "markdown",
   "metadata": {},
   "source": [
    "### Conclusion"
   ]
  },
  {
   "cell_type": "markdown",
   "metadata": {},
   "source": [
    "Just from examining the first 10 rows of the data, there are two big questions that arise. First, there are many entries with negative values in the \"days_employed\" column. Second, the \"purpose\" column will definitely need some further exploration, as it appears there are some inconsistences in responses here, which may require extensive preprocessing. \n",
    "\n",
    "There are some other adjustments that need to be made to the data as well. One is setting \"education\" values all to lowercase so they can be better grouped. Another is the \"dob_years\" column, which would be more appropriately named \"age.\" And, exploring both education and family_status repeat columns will be an important preprocessing step. Finally, both \"total_income\" and \"days_employed\" are missing data points, which will require some investigation. "
   ]
  },
  {
   "cell_type": "markdown",
   "metadata": {},
   "source": [
    "### Step 2. Data preprocessing"
   ]
  },
  {
   "cell_type": "markdown",
   "metadata": {},
   "source": [
    "### Processing missing values"
   ]
  },
  {
   "cell_type": "code",
   "execution_count": 5,
   "metadata": {},
   "outputs": [],
   "source": [
    "null_income = df[df['total_income'].isnull()]"
   ]
  },
  {
   "cell_type": "code",
   "execution_count": 6,
   "metadata": {},
   "outputs": [
    {
     "name": "stdout",
     "output_type": "stream",
     "text": [
      "       children  days_employed  dob_years            education  education_id  \\\n",
      "12            0            NaN         65  secondary education             1   \n",
      "26            0            NaN         41  secondary education             1   \n",
      "29            0            NaN         63  secondary education             1   \n",
      "41            0            NaN         50  secondary education             1   \n",
      "55            0            NaN         54  secondary education             1   \n",
      "...         ...            ...        ...                  ...           ...   \n",
      "21489         2            NaN         47  Secondary Education             1   \n",
      "21495         1            NaN         50  secondary education             1   \n",
      "21497         0            NaN         48       MASTERS DEGREE             0   \n",
      "21502         1            NaN         42  secondary education             1   \n",
      "21510         2            NaN         28  secondary education             1   \n",
      "\n",
      "           family_status  family_status_id gender    income_type  debt  \\\n",
      "12     civil partnership                 1      M        retiree     0   \n",
      "26               married                 0      M  civil servant     0   \n",
      "29             unmarried                 4      F        retiree     0   \n",
      "41               married                 0      F  civil servant     0   \n",
      "55     civil partnership                 1      F        retiree     1   \n",
      "...                  ...               ...    ...            ...   ...   \n",
      "21489            married                 0      M        partner     0   \n",
      "21495  civil partnership                 1      F       employee     0   \n",
      "21497            married                 0      F        partner     0   \n",
      "21502            married                 0      F       employee     0   \n",
      "21510            married                 0      F       employee     0   \n",
      "\n",
      "       total_income                   purpose  \n",
      "12              NaN         to have a wedding  \n",
      "26              NaN                 education  \n",
      "29              NaN    building a real estate  \n",
      "41              NaN  second-hand car purchase  \n",
      "55              NaN         to have a wedding  \n",
      "...             ...                       ...  \n",
      "21489           NaN         purchase of a car  \n",
      "21495           NaN          wedding ceremony  \n",
      "21497           NaN       building a property  \n",
      "21502           NaN    building a real estate  \n",
      "21510           NaN              car purchase  \n",
      "\n",
      "[2174 rows x 12 columns]\n"
     ]
    }
   ],
   "source": [
    "print(null_income)"
   ]
  },
  {
   "cell_type": "code",
   "execution_count": 7,
   "metadata": {
    "scrolled": true
   },
   "outputs": [
    {
     "data": {
      "text/html": [
       "<div>\n",
       "<style scoped>\n",
       "    .dataframe tbody tr th:only-of-type {\n",
       "        vertical-align: middle;\n",
       "    }\n",
       "\n",
       "    .dataframe tbody tr th {\n",
       "        vertical-align: top;\n",
       "    }\n",
       "\n",
       "    .dataframe thead tr th {\n",
       "        text-align: left;\n",
       "    }\n",
       "\n",
       "    .dataframe thead tr:last-of-type th {\n",
       "        text-align: right;\n",
       "    }\n",
       "</style>\n",
       "<table border=\"1\" class=\"dataframe\">\n",
       "  <thead>\n",
       "    <tr>\n",
       "      <th></th>\n",
       "      <th colspan=\"8\" halign=\"left\">children</th>\n",
       "      <th colspan=\"2\" halign=\"left\">days_employed</th>\n",
       "      <th>...</th>\n",
       "      <th colspan=\"2\" halign=\"left\">debt</th>\n",
       "      <th colspan=\"8\" halign=\"left\">total_income</th>\n",
       "    </tr>\n",
       "    <tr>\n",
       "      <th></th>\n",
       "      <th>count</th>\n",
       "      <th>mean</th>\n",
       "      <th>std</th>\n",
       "      <th>min</th>\n",
       "      <th>25%</th>\n",
       "      <th>50%</th>\n",
       "      <th>75%</th>\n",
       "      <th>max</th>\n",
       "      <th>count</th>\n",
       "      <th>mean</th>\n",
       "      <th>...</th>\n",
       "      <th>75%</th>\n",
       "      <th>max</th>\n",
       "      <th>count</th>\n",
       "      <th>mean</th>\n",
       "      <th>std</th>\n",
       "      <th>min</th>\n",
       "      <th>25%</th>\n",
       "      <th>50%</th>\n",
       "      <th>75%</th>\n",
       "      <th>max</th>\n",
       "    </tr>\n",
       "    <tr>\n",
       "      <th>income_type</th>\n",
       "      <th></th>\n",
       "      <th></th>\n",
       "      <th></th>\n",
       "      <th></th>\n",
       "      <th></th>\n",
       "      <th></th>\n",
       "      <th></th>\n",
       "      <th></th>\n",
       "      <th></th>\n",
       "      <th></th>\n",
       "      <th></th>\n",
       "      <th></th>\n",
       "      <th></th>\n",
       "      <th></th>\n",
       "      <th></th>\n",
       "      <th></th>\n",
       "      <th></th>\n",
       "      <th></th>\n",
       "      <th></th>\n",
       "      <th></th>\n",
       "      <th></th>\n",
       "    </tr>\n",
       "  </thead>\n",
       "  <tbody>\n",
       "    <tr>\n",
       "      <td>civil servant</td>\n",
       "      <td>1459.0</td>\n",
       "      <td>0.622344</td>\n",
       "      <td>1.113242</td>\n",
       "      <td>-1.0</td>\n",
       "      <td>0.00</td>\n",
       "      <td>0.0</td>\n",
       "      <td>1.00</td>\n",
       "      <td>20.0</td>\n",
       "      <td>1312.0</td>\n",
       "      <td>-3399.896902</td>\n",
       "      <td>...</td>\n",
       "      <td>0.00</td>\n",
       "      <td>1.0</td>\n",
       "      <td>1312.0</td>\n",
       "      <td>170898.309923</td>\n",
       "      <td>96878.763554</td>\n",
       "      <td>29200.077193</td>\n",
       "      <td>105294.668418</td>\n",
       "      <td>150447.935283</td>\n",
       "      <td>209173.052434</td>\n",
       "      <td>9.104515e+05</td>\n",
       "    </tr>\n",
       "    <tr>\n",
       "      <td>employee</td>\n",
       "      <td>11119.0</td>\n",
       "      <td>0.641784</td>\n",
       "      <td>1.448530</td>\n",
       "      <td>-1.0</td>\n",
       "      <td>0.00</td>\n",
       "      <td>0.0</td>\n",
       "      <td>1.00</td>\n",
       "      <td>20.0</td>\n",
       "      <td>10014.0</td>\n",
       "      <td>-2326.499216</td>\n",
       "      <td>...</td>\n",
       "      <td>0.00</td>\n",
       "      <td>1.0</td>\n",
       "      <td>10014.0</td>\n",
       "      <td>161380.260488</td>\n",
       "      <td>91322.514795</td>\n",
       "      <td>21367.648356</td>\n",
       "      <td>102795.633631</td>\n",
       "      <td>142594.396847</td>\n",
       "      <td>196828.082600</td>\n",
       "      <td>1.726276e+06</td>\n",
       "    </tr>\n",
       "    <tr>\n",
       "      <td>entrepreneur</td>\n",
       "      <td>2.0</td>\n",
       "      <td>0.000000</td>\n",
       "      <td>0.000000</td>\n",
       "      <td>0.0</td>\n",
       "      <td>0.00</td>\n",
       "      <td>0.0</td>\n",
       "      <td>0.00</td>\n",
       "      <td>0.0</td>\n",
       "      <td>1.0</td>\n",
       "      <td>-520.848083</td>\n",
       "      <td>...</td>\n",
       "      <td>0.00</td>\n",
       "      <td>0.0</td>\n",
       "      <td>1.0</td>\n",
       "      <td>499163.144947</td>\n",
       "      <td>NaN</td>\n",
       "      <td>499163.144947</td>\n",
       "      <td>499163.144947</td>\n",
       "      <td>499163.144947</td>\n",
       "      <td>499163.144947</td>\n",
       "      <td>4.991631e+05</td>\n",
       "    </tr>\n",
       "    <tr>\n",
       "      <td>partner</td>\n",
       "      <td>5085.0</td>\n",
       "      <td>0.598623</td>\n",
       "      <td>1.483968</td>\n",
       "      <td>-1.0</td>\n",
       "      <td>0.00</td>\n",
       "      <td>0.0</td>\n",
       "      <td>1.00</td>\n",
       "      <td>20.0</td>\n",
       "      <td>4577.0</td>\n",
       "      <td>-2111.524398</td>\n",
       "      <td>...</td>\n",
       "      <td>0.00</td>\n",
       "      <td>1.0</td>\n",
       "      <td>4577.0</td>\n",
       "      <td>202417.461462</td>\n",
       "      <td>130481.095793</td>\n",
       "      <td>28702.812889</td>\n",
       "      <td>125887.745820</td>\n",
       "      <td>172357.950966</td>\n",
       "      <td>243907.839199</td>\n",
       "      <td>2.265604e+06</td>\n",
       "    </tr>\n",
       "    <tr>\n",
       "      <td>paternity / maternity leave</td>\n",
       "      <td>1.0</td>\n",
       "      <td>2.000000</td>\n",
       "      <td>NaN</td>\n",
       "      <td>2.0</td>\n",
       "      <td>2.00</td>\n",
       "      <td>2.0</td>\n",
       "      <td>2.00</td>\n",
       "      <td>2.0</td>\n",
       "      <td>1.0</td>\n",
       "      <td>-3296.759962</td>\n",
       "      <td>...</td>\n",
       "      <td>1.00</td>\n",
       "      <td>1.0</td>\n",
       "      <td>1.0</td>\n",
       "      <td>53829.130729</td>\n",
       "      <td>NaN</td>\n",
       "      <td>53829.130729</td>\n",
       "      <td>53829.130729</td>\n",
       "      <td>53829.130729</td>\n",
       "      <td>53829.130729</td>\n",
       "      <td>5.382913e+04</td>\n",
       "    </tr>\n",
       "    <tr>\n",
       "      <td>retiree</td>\n",
       "      <td>3856.0</td>\n",
       "      <td>0.132002</td>\n",
       "      <td>1.014271</td>\n",
       "      <td>-1.0</td>\n",
       "      <td>0.00</td>\n",
       "      <td>0.0</td>\n",
       "      <td>0.00</td>\n",
       "      <td>20.0</td>\n",
       "      <td>3443.0</td>\n",
       "      <td>365003.491245</td>\n",
       "      <td>...</td>\n",
       "      <td>0.00</td>\n",
       "      <td>1.0</td>\n",
       "      <td>3443.0</td>\n",
       "      <td>137127.465690</td>\n",
       "      <td>80246.953231</td>\n",
       "      <td>20667.263793</td>\n",
       "      <td>82881.443465</td>\n",
       "      <td>118514.486412</td>\n",
       "      <td>169700.433010</td>\n",
       "      <td>7.351033e+05</td>\n",
       "    </tr>\n",
       "    <tr>\n",
       "      <td>student</td>\n",
       "      <td>1.0</td>\n",
       "      <td>0.000000</td>\n",
       "      <td>NaN</td>\n",
       "      <td>0.0</td>\n",
       "      <td>0.00</td>\n",
       "      <td>0.0</td>\n",
       "      <td>0.00</td>\n",
       "      <td>0.0</td>\n",
       "      <td>1.0</td>\n",
       "      <td>-578.751554</td>\n",
       "      <td>...</td>\n",
       "      <td>0.00</td>\n",
       "      <td>0.0</td>\n",
       "      <td>1.0</td>\n",
       "      <td>98201.625314</td>\n",
       "      <td>NaN</td>\n",
       "      <td>98201.625314</td>\n",
       "      <td>98201.625314</td>\n",
       "      <td>98201.625314</td>\n",
       "      <td>98201.625314</td>\n",
       "      <td>9.820163e+04</td>\n",
       "    </tr>\n",
       "    <tr>\n",
       "      <td>unempoyed</td>\n",
       "      <td>2.0</td>\n",
       "      <td>0.500000</td>\n",
       "      <td>0.707107</td>\n",
       "      <td>0.0</td>\n",
       "      <td>0.25</td>\n",
       "      <td>0.5</td>\n",
       "      <td>0.75</td>\n",
       "      <td>1.0</td>\n",
       "      <td>2.0</td>\n",
       "      <td>366413.652744</td>\n",
       "      <td>...</td>\n",
       "      <td>0.75</td>\n",
       "      <td>1.0</td>\n",
       "      <td>2.0</td>\n",
       "      <td>131339.751676</td>\n",
       "      <td>100950.466876</td>\n",
       "      <td>59956.991984</td>\n",
       "      <td>95648.371830</td>\n",
       "      <td>131339.751676</td>\n",
       "      <td>167031.131522</td>\n",
       "      <td>2.027225e+05</td>\n",
       "    </tr>\n",
       "  </tbody>\n",
       "</table>\n",
       "<p>8 rows × 56 columns</p>\n",
       "</div>"
      ],
      "text/plain": [
       "                            children                                      \\\n",
       "                               count      mean       std  min   25%  50%   \n",
       "income_type                                                                \n",
       "civil servant                 1459.0  0.622344  1.113242 -1.0  0.00  0.0   \n",
       "employee                     11119.0  0.641784  1.448530 -1.0  0.00  0.0   \n",
       "entrepreneur                     2.0  0.000000  0.000000  0.0  0.00  0.0   \n",
       "partner                       5085.0  0.598623  1.483968 -1.0  0.00  0.0   \n",
       "paternity / maternity leave      1.0  2.000000       NaN  2.0  2.00  2.0   \n",
       "retiree                       3856.0  0.132002  1.014271 -1.0  0.00  0.0   \n",
       "student                          1.0  0.000000       NaN  0.0  0.00  0.0   \n",
       "unempoyed                        2.0  0.500000  0.707107  0.0  0.25  0.5   \n",
       "\n",
       "                                        days_employed                 ...  \\\n",
       "                              75%   max         count           mean  ...   \n",
       "income_type                                                           ...   \n",
       "civil servant                1.00  20.0        1312.0   -3399.896902  ...   \n",
       "employee                     1.00  20.0       10014.0   -2326.499216  ...   \n",
       "entrepreneur                 0.00   0.0           1.0    -520.848083  ...   \n",
       "partner                      1.00  20.0        4577.0   -2111.524398  ...   \n",
       "paternity / maternity leave  2.00   2.0           1.0   -3296.759962  ...   \n",
       "retiree                      0.00  20.0        3443.0  365003.491245  ...   \n",
       "student                      0.00   0.0           1.0    -578.751554  ...   \n",
       "unempoyed                    0.75   1.0           2.0  366413.652744  ...   \n",
       "\n",
       "                             debt      total_income                 \\\n",
       "                              75%  max        count           mean   \n",
       "income_type                                                          \n",
       "civil servant                0.00  1.0       1312.0  170898.309923   \n",
       "employee                     0.00  1.0      10014.0  161380.260488   \n",
       "entrepreneur                 0.00  0.0          1.0  499163.144947   \n",
       "partner                      0.00  1.0       4577.0  202417.461462   \n",
       "paternity / maternity leave  1.00  1.0          1.0   53829.130729   \n",
       "retiree                      0.00  1.0       3443.0  137127.465690   \n",
       "student                      0.00  0.0          1.0   98201.625314   \n",
       "unempoyed                    0.75  1.0          2.0  131339.751676   \n",
       "\n",
       "                                                                          \\\n",
       "                                       std            min            25%   \n",
       "income_type                                                                \n",
       "civil servant                 96878.763554   29200.077193  105294.668418   \n",
       "employee                      91322.514795   21367.648356  102795.633631   \n",
       "entrepreneur                           NaN  499163.144947  499163.144947   \n",
       "partner                      130481.095793   28702.812889  125887.745820   \n",
       "paternity / maternity leave            NaN   53829.130729   53829.130729   \n",
       "retiree                       80246.953231   20667.263793   82881.443465   \n",
       "student                                NaN   98201.625314   98201.625314   \n",
       "unempoyed                    100950.466876   59956.991984   95648.371830   \n",
       "\n",
       "                                                                         \n",
       "                                       50%            75%           max  \n",
       "income_type                                                              \n",
       "civil servant                150447.935283  209173.052434  9.104515e+05  \n",
       "employee                     142594.396847  196828.082600  1.726276e+06  \n",
       "entrepreneur                 499163.144947  499163.144947  4.991631e+05  \n",
       "partner                      172357.950966  243907.839199  2.265604e+06  \n",
       "paternity / maternity leave   53829.130729   53829.130729  5.382913e+04  \n",
       "retiree                      118514.486412  169700.433010  7.351033e+05  \n",
       "student                       98201.625314   98201.625314  9.820163e+04  \n",
       "unempoyed                    131339.751676  167031.131522  2.027225e+05  \n",
       "\n",
       "[8 rows x 56 columns]"
      ]
     },
     "execution_count": 7,
     "metadata": {},
     "output_type": "execute_result"
    }
   ],
   "source": [
    "df.groupby('income_type').describe()"
   ]
  },
  {
   "cell_type": "code",
   "execution_count": 8,
   "metadata": {},
   "outputs": [],
   "source": [
    "df.dropna(inplace=True)"
   ]
  },
  {
   "cell_type": "code",
   "execution_count": 9,
   "metadata": {},
   "outputs": [
    {
     "name": "stdout",
     "output_type": "stream",
     "text": [
      "<class 'pandas.core.frame.DataFrame'>\n",
      "Int64Index: 19351 entries, 0 to 21524\n",
      "Data columns (total 12 columns):\n",
      "children            19351 non-null int64\n",
      "days_employed       19351 non-null float64\n",
      "dob_years           19351 non-null int64\n",
      "education           19351 non-null object\n",
      "education_id        19351 non-null int64\n",
      "family_status       19351 non-null object\n",
      "family_status_id    19351 non-null int64\n",
      "gender              19351 non-null object\n",
      "income_type         19351 non-null object\n",
      "debt                19351 non-null int64\n",
      "total_income        19351 non-null float64\n",
      "purpose             19351 non-null object\n",
      "dtypes: float64(2), int64(5), object(5)\n",
      "memory usage: 1.9+ MB\n"
     ]
    }
   ],
   "source": [
    "df.info()"
   ]
  },
  {
   "cell_type": "markdown",
   "metadata": {},
   "source": [
    "### Conclusion"
   ]
  },
  {
   "cell_type": "markdown",
   "metadata": {},
   "source": [
    "Due to the nature of the data, I wanted to see whether it was appropriate to add in values for the income or delete null data. Exploring the data, I find the standard deviation for income, even among similar income types, is quite wide. With that in mind, using an average to fill this data could still create misleading information. Since null data makes up only about 10% of all data, it may be more appropriate to simply drop all rows with null values. \n",
    "\n",
    "A big reason for this is also due to the financial variability. Though visible data is limited, we can quickly see a wide range of age, purpose, and other variability in these missing data points. This leads me to believe putting in a fill value for these missing data points could do more harm than good. \n",
    "\n",
    "In this case, it appears all the rows with missing \"total_income\" are also missing \"days_employed.\" To test this, I will simply drop null values rather than replace. If this sets the data to 19315 points for every category, it should present enough information while eliminating potentially misleading data. \n",
    "\n",
    "In a real-world scenario, I would follow up with the data provider on this. Both income and employment longevity are necessary information for normal loans, so I expect there might have been a mistake somewhere here. I.E. the data should be on file for these customers or they should never have gotten a loan. "
   ]
  },
  {
   "cell_type": "markdown",
   "metadata": {},
   "source": [
    "### Data type replacement"
   ]
  },
  {
   "cell_type": "code",
   "execution_count": 10,
   "metadata": {},
   "outputs": [],
   "source": [
    "df['days_employed'] = df['days_employed'].astype(int)"
   ]
  },
  {
   "cell_type": "code",
   "execution_count": 11,
   "metadata": {},
   "outputs": [],
   "source": [
    "df['total_income'] = df['total_income'].astype(int)"
   ]
  },
  {
   "cell_type": "code",
   "execution_count": 12,
   "metadata": {
    "scrolled": true
   },
   "outputs": [
    {
     "name": "stdout",
     "output_type": "stream",
     "text": [
      "<class 'pandas.core.frame.DataFrame'>\n",
      "Int64Index: 19351 entries, 0 to 21524\n",
      "Data columns (total 12 columns):\n",
      "children            19351 non-null int64\n",
      "days_employed       19351 non-null int32\n",
      "dob_years           19351 non-null int64\n",
      "education           19351 non-null object\n",
      "education_id        19351 non-null int64\n",
      "family_status       19351 non-null object\n",
      "family_status_id    19351 non-null int64\n",
      "gender              19351 non-null object\n",
      "income_type         19351 non-null object\n",
      "debt                19351 non-null int64\n",
      "total_income        19351 non-null int32\n",
      "purpose             19351 non-null object\n",
      "dtypes: int32(2), int64(5), object(5)\n",
      "memory usage: 1.8+ MB\n"
     ]
    }
   ],
   "source": [
    "df.info()"
   ]
  },
  {
   "cell_type": "code",
   "execution_count": 13,
   "metadata": {},
   "outputs": [],
   "source": [
    "df['days_employed'] = df['days_employed'].abs()"
   ]
  },
  {
   "cell_type": "code",
   "execution_count": 14,
   "metadata": {},
   "outputs": [
    {
     "data": {
      "text/html": [
       "<div>\n",
       "<style scoped>\n",
       "    .dataframe tbody tr th:only-of-type {\n",
       "        vertical-align: middle;\n",
       "    }\n",
       "\n",
       "    .dataframe tbody tr th {\n",
       "        vertical-align: top;\n",
       "    }\n",
       "\n",
       "    .dataframe thead th {\n",
       "        text-align: right;\n",
       "    }\n",
       "</style>\n",
       "<table border=\"1\" class=\"dataframe\">\n",
       "  <thead>\n",
       "    <tr style=\"text-align: right;\">\n",
       "      <th></th>\n",
       "      <th>children</th>\n",
       "      <th>days_employed</th>\n",
       "      <th>dob_years</th>\n",
       "      <th>education</th>\n",
       "      <th>education_id</th>\n",
       "      <th>family_status</th>\n",
       "      <th>family_status_id</th>\n",
       "      <th>gender</th>\n",
       "      <th>income_type</th>\n",
       "      <th>debt</th>\n",
       "      <th>total_income</th>\n",
       "      <th>purpose</th>\n",
       "    </tr>\n",
       "  </thead>\n",
       "  <tbody>\n",
       "    <tr>\n",
       "      <td>0</td>\n",
       "      <td>1</td>\n",
       "      <td>8437</td>\n",
       "      <td>42</td>\n",
       "      <td>masters degree</td>\n",
       "      <td>0</td>\n",
       "      <td>married</td>\n",
       "      <td>0</td>\n",
       "      <td>F</td>\n",
       "      <td>employee</td>\n",
       "      <td>0</td>\n",
       "      <td>253875</td>\n",
       "      <td>purchase of the house</td>\n",
       "    </tr>\n",
       "    <tr>\n",
       "      <td>1</td>\n",
       "      <td>1</td>\n",
       "      <td>4024</td>\n",
       "      <td>36</td>\n",
       "      <td>secondary education</td>\n",
       "      <td>1</td>\n",
       "      <td>married</td>\n",
       "      <td>0</td>\n",
       "      <td>F</td>\n",
       "      <td>employee</td>\n",
       "      <td>0</td>\n",
       "      <td>112080</td>\n",
       "      <td>car purchase</td>\n",
       "    </tr>\n",
       "    <tr>\n",
       "      <td>2</td>\n",
       "      <td>0</td>\n",
       "      <td>5623</td>\n",
       "      <td>33</td>\n",
       "      <td>Secondary Education</td>\n",
       "      <td>1</td>\n",
       "      <td>married</td>\n",
       "      <td>0</td>\n",
       "      <td>M</td>\n",
       "      <td>employee</td>\n",
       "      <td>0</td>\n",
       "      <td>145885</td>\n",
       "      <td>purchase of the house</td>\n",
       "    </tr>\n",
       "    <tr>\n",
       "      <td>3</td>\n",
       "      <td>3</td>\n",
       "      <td>4124</td>\n",
       "      <td>32</td>\n",
       "      <td>secondary education</td>\n",
       "      <td>1</td>\n",
       "      <td>married</td>\n",
       "      <td>0</td>\n",
       "      <td>M</td>\n",
       "      <td>employee</td>\n",
       "      <td>0</td>\n",
       "      <td>267628</td>\n",
       "      <td>supplementary education</td>\n",
       "    </tr>\n",
       "    <tr>\n",
       "      <td>4</td>\n",
       "      <td>0</td>\n",
       "      <td>340266</td>\n",
       "      <td>53</td>\n",
       "      <td>secondary education</td>\n",
       "      <td>1</td>\n",
       "      <td>civil partnership</td>\n",
       "      <td>1</td>\n",
       "      <td>F</td>\n",
       "      <td>retiree</td>\n",
       "      <td>0</td>\n",
       "      <td>158616</td>\n",
       "      <td>to have a wedding</td>\n",
       "    </tr>\n",
       "  </tbody>\n",
       "</table>\n",
       "</div>"
      ],
      "text/plain": [
       "   children  days_employed  dob_years            education  education_id  \\\n",
       "0         1           8437         42       masters degree             0   \n",
       "1         1           4024         36  secondary education             1   \n",
       "2         0           5623         33  Secondary Education             1   \n",
       "3         3           4124         32  secondary education             1   \n",
       "4         0         340266         53  secondary education             1   \n",
       "\n",
       "       family_status  family_status_id gender income_type  debt  total_income  \\\n",
       "0            married                 0      F    employee     0        253875   \n",
       "1            married                 0      F    employee     0        112080   \n",
       "2            married                 0      M    employee     0        145885   \n",
       "3            married                 0      M    employee     0        267628   \n",
       "4  civil partnership                 1      F     retiree     0        158616   \n",
       "\n",
       "                   purpose  \n",
       "0    purchase of the house  \n",
       "1             car purchase  \n",
       "2    purchase of the house  \n",
       "3  supplementary education  \n",
       "4        to have a wedding  "
      ]
     },
     "execution_count": 14,
     "metadata": {},
     "output_type": "execute_result"
    }
   ],
   "source": [
    "df.head()"
   ]
  },
  {
   "cell_type": "markdown",
   "metadata": {},
   "source": [
    "### Conclusion"
   ]
  },
  {
   "cell_type": "markdown",
   "metadata": {},
   "source": [
    "In a real data situation, the \"days_employed\" would warrant some follow-up with whomever provided the data. Were the negative values a mistake in data entry? Why are their long decimals (even if measuring fractions of a day, the seemingly random numbers here are dubious). \n",
    "\n",
    "In this case, I am assuming the negative numbers are meant to be positive. Additionally, I changed the data type to integer because we are only interested in full work days. \n",
    "\n",
    "Beyond this column, I also thought it appropriate to round total income to an integer as well. In loan situations, calculating down to a fraction of a cent seems unecessary. "
   ]
  },
  {
   "cell_type": "markdown",
   "metadata": {},
   "source": [
    "### Processing duplicates"
   ]
  },
  {
   "cell_type": "code",
   "execution_count": 15,
   "metadata": {},
   "outputs": [
    {
     "data": {
      "text/plain": [
       "array([0, 1, 2, 3, 4], dtype=int64)"
      ]
     },
     "execution_count": 15,
     "metadata": {},
     "output_type": "execute_result"
    }
   ],
   "source": [
    "df['education_id'].unique()"
   ]
  },
  {
   "cell_type": "code",
   "execution_count": 16,
   "metadata": {},
   "outputs": [],
   "source": [
    "edu_2 = df[df['education_id'] == 2]"
   ]
  },
  {
   "cell_type": "code",
   "execution_count": 17,
   "metadata": {},
   "outputs": [],
   "source": [
    "edu_3 = df[df['education_id'] == 3]"
   ]
  },
  {
   "cell_type": "code",
   "execution_count": 18,
   "metadata": {},
   "outputs": [],
   "source": [
    "edu_4 = df[df['education_id'] == 4]"
   ]
  },
  {
   "cell_type": "code",
   "execution_count": 19,
   "metadata": {},
   "outputs": [
    {
     "name": "stdout",
     "output_type": "stream",
     "text": [
      "    children  days_employed  dob_years        education  education_id  \\\n",
      "13         0           1846         54  bachelor degree             2   \n",
      "\n",
      "   family_status  family_status_id gender income_type  debt  total_income  \\\n",
      "13       married                 0      F    employee     0        130458   \n",
      "\n",
      "         purpose  \n",
      "13  car purchase  \n"
     ]
    }
   ],
   "source": [
    "print(edu_2.head(1))"
   ]
  },
  {
   "cell_type": "code",
   "execution_count": 20,
   "metadata": {},
   "outputs": [
    {
     "name": "stdout",
     "output_type": "stream",
     "text": [
      "    children  days_employed  dob_years          education  education_id  \\\n",
      "31         0           1682         47  primary education             3   \n",
      "\n",
      "   family_status  family_status_id gender income_type  debt  total_income  \\\n",
      "31       married                 0      F    employee     0        275485   \n",
      "\n",
      "    purpose  \n",
      "31  housing  \n"
     ]
    }
   ],
   "source": [
    "print(edu_3.head(1))"
   ]
  },
  {
   "cell_type": "code",
   "execution_count": 21,
   "metadata": {
    "scrolled": true
   },
   "outputs": [
    {
     "name": "stdout",
     "output_type": "stream",
     "text": [
      "      children  days_employed  dob_years        education  education_id  \\\n",
      "2963         0         337584         69  Academic Degree             4   \n",
      "\n",
      "     family_status  family_status_id gender income_type  debt  total_income  \\\n",
      "2963       married                 0      M     retiree     0         98752   \n",
      "\n",
      "                          purpose  \n",
      "2963  buy residential real estate  \n"
     ]
    }
   ],
   "source": [
    "print(edu_4.head(1))"
   ]
  },
  {
   "cell_type": "code",
   "execution_count": 22,
   "metadata": {},
   "outputs": [
    {
     "data": {
      "text/plain": [
       "array([0, 1, 2, 3, 4], dtype=int64)"
      ]
     },
     "execution_count": 22,
     "metadata": {},
     "output_type": "execute_result"
    }
   ],
   "source": [
    "df['family_status_id'].unique()"
   ]
  },
  {
   "cell_type": "code",
   "execution_count": 23,
   "metadata": {},
   "outputs": [],
   "source": [
    "famstat_2 = df[df['family_status_id'] == 2]"
   ]
  },
  {
   "cell_type": "code",
   "execution_count": 24,
   "metadata": {},
   "outputs": [],
   "source": [
    "famstat_3 = df[df['family_status_id'] == 3]"
   ]
  },
  {
   "cell_type": "code",
   "execution_count": 25,
   "metadata": {},
   "outputs": [],
   "source": [
    "famstat_4 = df[df['family_status_id'] == 4]"
   ]
  },
  {
   "cell_type": "code",
   "execution_count": 26,
   "metadata": {},
   "outputs": [
    {
     "name": "stdout",
     "output_type": "stream",
     "text": [
      "    children  days_employed  dob_years            education  education_id  \\\n",
      "18         0         400281         53  secondary education             1   \n",
      "\n",
      "      family_status  family_status_id gender income_type  debt  total_income  \\\n",
      "18  widow / widower                 2      F     retiree     0         56823   \n",
      "\n",
      "                     purpose  \n",
      "18  buying a second-hand car  \n"
     ]
    }
   ],
   "source": [
    "print(famstat_2.head(1))"
   ]
  },
  {
   "cell_type": "code",
   "execution_count": 27,
   "metadata": {},
   "outputs": [
    {
     "name": "stdout",
     "output_type": "stream",
     "text": [
      "    children  days_employed  dob_years            education  education_id  \\\n",
      "19         0          10038         48  SECONDARY EDUCATION             1   \n",
      "\n",
      "   family_status  family_status_id gender income_type  debt  total_income  \\\n",
      "19      divorced                 3      F    employee     0        242831   \n",
      "\n",
      "              purpose  \n",
      "19  buying my own car  \n"
     ]
    }
   ],
   "source": [
    "print(famstat_3.head(1))"
   ]
  },
  {
   "cell_type": "code",
   "execution_count": 28,
   "metadata": {},
   "outputs": [
    {
     "name": "stdout",
     "output_type": "stream",
     "text": [
      "    children  days_employed  dob_years            education  education_id  \\\n",
      "24         1         338551         57  secondary education             1   \n",
      "\n",
      "   family_status  family_status_id gender income_type  debt  total_income  \\\n",
      "24     unmarried                 4      F     retiree     0        290547   \n",
      "\n",
      "                                          purpose  \n",
      "24  transactions with the residential real estate  \n"
     ]
    }
   ],
   "source": [
    "print(famstat_4.head(1))"
   ]
  },
  {
   "cell_type": "code",
   "execution_count": 29,
   "metadata": {},
   "outputs": [],
   "source": [
    "df = df.drop(columns=['education', 'family_status'])"
   ]
  },
  {
   "cell_type": "code",
   "execution_count": 30,
   "metadata": {},
   "outputs": [
    {
     "data": {
      "text/html": [
       "<div>\n",
       "<style scoped>\n",
       "    .dataframe tbody tr th:only-of-type {\n",
       "        vertical-align: middle;\n",
       "    }\n",
       "\n",
       "    .dataframe tbody tr th {\n",
       "        vertical-align: top;\n",
       "    }\n",
       "\n",
       "    .dataframe thead th {\n",
       "        text-align: right;\n",
       "    }\n",
       "</style>\n",
       "<table border=\"1\" class=\"dataframe\">\n",
       "  <thead>\n",
       "    <tr style=\"text-align: right;\">\n",
       "      <th></th>\n",
       "      <th>children</th>\n",
       "      <th>days_employed</th>\n",
       "      <th>dob_years</th>\n",
       "      <th>education_id</th>\n",
       "      <th>family_status_id</th>\n",
       "      <th>debt</th>\n",
       "      <th>total_income</th>\n",
       "    </tr>\n",
       "  </thead>\n",
       "  <tbody>\n",
       "    <tr>\n",
       "      <td>count</td>\n",
       "      <td>19351.000000</td>\n",
       "      <td>19351.000000</td>\n",
       "      <td>19351.000000</td>\n",
       "      <td>19351.000000</td>\n",
       "      <td>19351.000000</td>\n",
       "      <td>19351.000000</td>\n",
       "      <td>1.935100e+04</td>\n",
       "    </tr>\n",
       "    <tr>\n",
       "      <td>mean</td>\n",
       "      <td>0.537388</td>\n",
       "      <td>66914.229601</td>\n",
       "      <td>43.255336</td>\n",
       "      <td>0.819079</td>\n",
       "      <td>0.972249</td>\n",
       "      <td>0.081184</td>\n",
       "      <td>1.674218e+05</td>\n",
       "    </tr>\n",
       "    <tr>\n",
       "      <td>std</td>\n",
       "      <td>1.371408</td>\n",
       "      <td>139030.879867</td>\n",
       "      <td>12.579170</td>\n",
       "      <td>0.550104</td>\n",
       "      <td>1.420596</td>\n",
       "      <td>0.273125</td>\n",
       "      <td>1.029716e+05</td>\n",
       "    </tr>\n",
       "    <tr>\n",
       "      <td>min</td>\n",
       "      <td>-1.000000</td>\n",
       "      <td>24.000000</td>\n",
       "      <td>0.000000</td>\n",
       "      <td>0.000000</td>\n",
       "      <td>0.000000</td>\n",
       "      <td>0.000000</td>\n",
       "      <td>2.066700e+04</td>\n",
       "    </tr>\n",
       "    <tr>\n",
       "      <td>25%</td>\n",
       "      <td>0.000000</td>\n",
       "      <td>926.500000</td>\n",
       "      <td>33.000000</td>\n",
       "      <td>1.000000</td>\n",
       "      <td>0.000000</td>\n",
       "      <td>0.000000</td>\n",
       "      <td>1.030530e+05</td>\n",
       "    </tr>\n",
       "    <tr>\n",
       "      <td>50%</td>\n",
       "      <td>0.000000</td>\n",
       "      <td>2194.000000</td>\n",
       "      <td>42.000000</td>\n",
       "      <td>1.000000</td>\n",
       "      <td>0.000000</td>\n",
       "      <td>0.000000</td>\n",
       "      <td>1.450170e+05</td>\n",
       "    </tr>\n",
       "    <tr>\n",
       "      <td>75%</td>\n",
       "      <td>1.000000</td>\n",
       "      <td>5537.000000</td>\n",
       "      <td>53.000000</td>\n",
       "      <td>1.000000</td>\n",
       "      <td>1.000000</td>\n",
       "      <td>0.000000</td>\n",
       "      <td>2.034345e+05</td>\n",
       "    </tr>\n",
       "    <tr>\n",
       "      <td>max</td>\n",
       "      <td>20.000000</td>\n",
       "      <td>401755.000000</td>\n",
       "      <td>75.000000</td>\n",
       "      <td>4.000000</td>\n",
       "      <td>4.000000</td>\n",
       "      <td>1.000000</td>\n",
       "      <td>2.265604e+06</td>\n",
       "    </tr>\n",
       "  </tbody>\n",
       "</table>\n",
       "</div>"
      ],
      "text/plain": [
       "           children  days_employed     dob_years  education_id  \\\n",
       "count  19351.000000   19351.000000  19351.000000  19351.000000   \n",
       "mean       0.537388   66914.229601     43.255336      0.819079   \n",
       "std        1.371408  139030.879867     12.579170      0.550104   \n",
       "min       -1.000000      24.000000      0.000000      0.000000   \n",
       "25%        0.000000     926.500000     33.000000      1.000000   \n",
       "50%        0.000000    2194.000000     42.000000      1.000000   \n",
       "75%        1.000000    5537.000000     53.000000      1.000000   \n",
       "max       20.000000  401755.000000     75.000000      4.000000   \n",
       "\n",
       "       family_status_id          debt  total_income  \n",
       "count      19351.000000  19351.000000  1.935100e+04  \n",
       "mean           0.972249      0.081184  1.674218e+05  \n",
       "std            1.420596      0.273125  1.029716e+05  \n",
       "min            0.000000      0.000000  2.066700e+04  \n",
       "25%            0.000000      0.000000  1.030530e+05  \n",
       "50%            0.000000      0.000000  1.450170e+05  \n",
       "75%            1.000000      0.000000  2.034345e+05  \n",
       "max            4.000000      1.000000  2.265604e+06  "
      ]
     },
     "execution_count": 30,
     "metadata": {},
     "output_type": "execute_result"
    }
   ],
   "source": [
    "df.describe()"
   ]
  },
  {
   "cell_type": "code",
   "execution_count": 31,
   "metadata": {
    "scrolled": true
   },
   "outputs": [
    {
     "data": {
      "text/plain": [
       "array(['F', 'M', 'XNA'], dtype=object)"
      ]
     },
     "execution_count": 31,
     "metadata": {},
     "output_type": "execute_result"
    }
   ],
   "source": [
    "df['gender'].unique()"
   ]
  },
  {
   "cell_type": "code",
   "execution_count": 32,
   "metadata": {},
   "outputs": [
    {
     "data": {
      "text/html": [
       "<div>\n",
       "<style scoped>\n",
       "    .dataframe tbody tr th:only-of-type {\n",
       "        vertical-align: middle;\n",
       "    }\n",
       "\n",
       "    .dataframe tbody tr th {\n",
       "        vertical-align: top;\n",
       "    }\n",
       "\n",
       "    .dataframe thead th {\n",
       "        text-align: right;\n",
       "    }\n",
       "</style>\n",
       "<table border=\"1\" class=\"dataframe\">\n",
       "  <thead>\n",
       "    <tr style=\"text-align: right;\">\n",
       "      <th></th>\n",
       "      <th>children</th>\n",
       "      <th>days_employed</th>\n",
       "      <th>dob_years</th>\n",
       "      <th>education_id</th>\n",
       "      <th>family_status_id</th>\n",
       "      <th>gender</th>\n",
       "      <th>income_type</th>\n",
       "      <th>debt</th>\n",
       "      <th>total_income</th>\n",
       "      <th>purpose</th>\n",
       "    </tr>\n",
       "  </thead>\n",
       "  <tbody>\n",
       "    <tr>\n",
       "      <td>10701</td>\n",
       "      <td>0</td>\n",
       "      <td>2358</td>\n",
       "      <td>24</td>\n",
       "      <td>2</td>\n",
       "      <td>1</td>\n",
       "      <td>XNA</td>\n",
       "      <td>partner</td>\n",
       "      <td>0</td>\n",
       "      <td>203905</td>\n",
       "      <td>buy real estate</td>\n",
       "    </tr>\n",
       "  </tbody>\n",
       "</table>\n",
       "</div>"
      ],
      "text/plain": [
       "       children  days_employed  dob_years  education_id  family_status_id  \\\n",
       "10701         0           2358         24             2                 1   \n",
       "\n",
       "      gender income_type  debt  total_income          purpose  \n",
       "10701    XNA     partner     0        203905  buy real estate  "
      ]
     },
     "execution_count": 32,
     "metadata": {},
     "output_type": "execute_result"
    }
   ],
   "source": [
    "df[df['gender'] == 'XNA'].head()"
   ]
  },
  {
   "cell_type": "code",
   "execution_count": 33,
   "metadata": {},
   "outputs": [
    {
     "data": {
      "text/plain": [
       "array(['employee', 'retiree', 'partner', 'civil servant', 'unempoyed',\n",
       "       'student', 'entrepreneur', 'paternity / maternity leave'],\n",
       "      dtype=object)"
      ]
     },
     "execution_count": 33,
     "metadata": {},
     "output_type": "execute_result"
    }
   ],
   "source": [
    "df['income_type'].unique()"
   ]
  },
  {
   "cell_type": "code",
   "execution_count": 34,
   "metadata": {},
   "outputs": [
    {
     "data": {
      "text/html": [
       "<div>\n",
       "<style scoped>\n",
       "    .dataframe tbody tr th:only-of-type {\n",
       "        vertical-align: middle;\n",
       "    }\n",
       "\n",
       "    .dataframe tbody tr th {\n",
       "        vertical-align: top;\n",
       "    }\n",
       "\n",
       "    .dataframe thead th {\n",
       "        text-align: right;\n",
       "    }\n",
       "</style>\n",
       "<table border=\"1\" class=\"dataframe\">\n",
       "  <thead>\n",
       "    <tr style=\"text-align: right;\">\n",
       "      <th></th>\n",
       "      <th>children</th>\n",
       "      <th>days_employed</th>\n",
       "      <th>dob_years</th>\n",
       "      <th>education_id</th>\n",
       "      <th>family_status_id</th>\n",
       "      <th>gender</th>\n",
       "      <th>income_type</th>\n",
       "      <th>debt</th>\n",
       "      <th>total_income</th>\n",
       "      <th>purpose</th>\n",
       "    </tr>\n",
       "  </thead>\n",
       "  <tbody>\n",
       "    <tr>\n",
       "      <td>3133</td>\n",
       "      <td>1</td>\n",
       "      <td>337524</td>\n",
       "      <td>31</td>\n",
       "      <td>1</td>\n",
       "      <td>0</td>\n",
       "      <td>M</td>\n",
       "      <td>unempoyed</td>\n",
       "      <td>1</td>\n",
       "      <td>59956</td>\n",
       "      <td>buying property for renting out</td>\n",
       "    </tr>\n",
       "    <tr>\n",
       "      <td>14798</td>\n",
       "      <td>0</td>\n",
       "      <td>395302</td>\n",
       "      <td>45</td>\n",
       "      <td>0</td>\n",
       "      <td>1</td>\n",
       "      <td>F</td>\n",
       "      <td>unempoyed</td>\n",
       "      <td>0</td>\n",
       "      <td>202722</td>\n",
       "      <td>property renovation</td>\n",
       "    </tr>\n",
       "  </tbody>\n",
       "</table>\n",
       "</div>"
      ],
      "text/plain": [
       "       children  days_employed  dob_years  education_id  family_status_id  \\\n",
       "3133          1         337524         31             1                 0   \n",
       "14798         0         395302         45             0                 1   \n",
       "\n",
       "      gender income_type  debt  total_income                          purpose  \n",
       "3133       M   unempoyed     1         59956  buying property for renting out  \n",
       "14798      F   unempoyed     0        202722              property renovation  "
      ]
     },
     "execution_count": 34,
     "metadata": {},
     "output_type": "execute_result"
    }
   ],
   "source": [
    "df[df['income_type'] == 'unempoyed'].head()"
   ]
  },
  {
   "cell_type": "code",
   "execution_count": 35,
   "metadata": {},
   "outputs": [
    {
     "data": {
      "text/plain": [
       "0"
      ]
     },
     "execution_count": 35,
     "metadata": {},
     "output_type": "execute_result"
    }
   ],
   "source": [
    "df.duplicated().sum()"
   ]
  },
  {
   "cell_type": "markdown",
   "metadata": {},
   "source": [
    "As noted when observing the data, there were various columns that were essentially duplicates. Here we simply dropped those duplicate columns. \n",
    "\n",
    "I decided to keep education_id rather than education. In a real-world scenario, it would be easy enough to note what each number means in context. For my purpose, I had to determine how many different values there were and what each value was, which meant extra lines of code. In this case, I'll note here: 0 = Master's Degree, 1 = Secondary Education, 2 = Bachelor's Degree, 3 = Primary Education, 4 = Academic Degree. Having these as numeric values opens up more potential for data anaylsis down the road, including the training of a machine learning model to predict risk. \n",
    "\n",
    "In the same way, I dropped the family_status and kept the family_status_id column. The values on this are: 0 = Married, 1 = Civil Partnership, 2 = Widow/Widower, 3 = Divorced, 4 = Unmarried.   \n",
    "\n",
    "Beyond these, I explored the descriptive statistics for the numerical variables to see what we are working with. Next, I checked the unique entries for gender and doubled checked income_type (in case dropping nulls affected this). I notice \"unempoyed\" is still a value, which seems odd as you wouldn't expect someone unemployed would be offered a loan. Further, it seems these listing both have enormously large \"days_employed.\" Overall, it seems thre is an error in these two entries, something I would want to check with the data provider on. \n",
    "\n",
    "Next, I see there is just one row of data for the gender as \"XNA.\" But, that appears valid -likely just someone who didn't identify their gender; still worthy of follow-up with data provider if able. \n",
    "\n",
    "Finally, I also checked for duplicate rows and found none. "
   ]
  },
  {
   "cell_type": "markdown",
   "metadata": {},
   "source": [
    "### Lemmatization"
   ]
  },
  {
   "cell_type": "code",
   "execution_count": 36,
   "metadata": {},
   "outputs": [],
   "source": [
    "import nltk"
   ]
  },
  {
   "cell_type": "code",
   "execution_count": 37,
   "metadata": {},
   "outputs": [],
   "source": [
    "from nltk.stem import WordNetLemmatizer"
   ]
  },
  {
   "cell_type": "code",
   "execution_count": 38,
   "metadata": {},
   "outputs": [],
   "source": [
    "wnl = WordNetLemmatizer()"
   ]
  },
  {
   "cell_type": "code",
   "execution_count": 39,
   "metadata": {},
   "outputs": [
    {
     "data": {
      "text/plain": [
       "array(['purchase of the house', 'car purchase', 'supplementary education',\n",
       "       'to have a wedding', 'housing transactions', 'education',\n",
       "       'having a wedding', 'purchase of the house for my family',\n",
       "       'buy real estate', 'buy commercial real estate',\n",
       "       'buy residential real estate', 'construction of own property',\n",
       "       'property', 'building a property', 'buying a second-hand car',\n",
       "       'buying my own car',\n",
       "       'transactions with the residential real estate', 'housing',\n",
       "       'transactions with my real estate', 'cars', 'to become educated',\n",
       "       'getting an education', 'second-hand car purchase', 'car',\n",
       "       'wedding ceremony', 'to get asupplementary education',\n",
       "       'purchase of my own house', 'real estate transactions',\n",
       "       'getting higher education', 'to own a car', 'purchase of a car',\n",
       "       'profile education', 'university education',\n",
       "       'buying property for renting out', 'to buy a car',\n",
       "       'building a real estate', 'property renovation',\n",
       "       'going to university'], dtype=object)"
      ]
     },
     "execution_count": 39,
     "metadata": {},
     "output_type": "execute_result"
    }
   ],
   "source": [
    "df['purpose'].unique()"
   ]
  },
  {
   "cell_type": "code",
   "execution_count": 40,
   "metadata": {},
   "outputs": [],
   "source": [
    "df['purpose'] = df['purpose'].replace('going to university', 'education')"
   ]
  },
  {
   "cell_type": "code",
   "execution_count": 41,
   "metadata": {},
   "outputs": [],
   "source": [
    "purposes = df['purpose'].tolist()"
   ]
  },
  {
   "cell_type": "code",
   "execution_count": 42,
   "metadata": {},
   "outputs": [],
   "source": [
    "def find_purpose(purposes):\n",
    "    new_cats = ['house', 'car', 'education', 'wedding', 'housing', 'estate', 'property', 'educated']\n",
    "    new_list = []\n",
    "    for purpose in purposes:\n",
    "        for word in purpose.split(' '):\n",
    "            lemmas = wnl.lemmatize(word, pos='n')\n",
    "            if lemmas in new_cats:\n",
    "                new_list.append(lemmas)\n",
    "    return new_list"
   ]
  },
  {
   "cell_type": "code",
   "execution_count": 43,
   "metadata": {},
   "outputs": [],
   "source": [
    "new_purpose = find_purpose(purposes)"
   ]
  },
  {
   "cell_type": "code",
   "execution_count": 44,
   "metadata": {
    "scrolled": false
   },
   "outputs": [
    {
     "name": "stdout",
     "output_type": "stream",
     "text": [
      "19351\n"
     ]
    }
   ],
   "source": [
    "print(len(new_purpose))"
   ]
  },
  {
   "cell_type": "code",
   "execution_count": 45,
   "metadata": {},
   "outputs": [],
   "source": [
    "df['purpose'] = new_purpose"
   ]
  },
  {
   "cell_type": "code",
   "execution_count": 46,
   "metadata": {},
   "outputs": [
    {
     "name": "stdout",
     "output_type": "stream",
     "text": [
      "   children  days_employed  dob_years  education_id  family_status_id gender  \\\n",
      "0         1           8437         42             0                 0      F   \n",
      "1         1           4024         36             1                 0      F   \n",
      "2         0           5623         33             1                 0      M   \n",
      "3         3           4124         32             1                 0      M   \n",
      "4         0         340266         53             1                 1      F   \n",
      "5         0            926         27             0                 1      M   \n",
      "6         0           2879         43             0                 0      F   \n",
      "7         0            152         50             1                 0      M   \n",
      "8         2           6929         35             0                 1      F   \n",
      "9         0           2188         41             1                 0      M   \n",
      "\n",
      "  income_type  debt  total_income    purpose  \n",
      "0    employee     0        253875      house  \n",
      "1    employee     0        112080        car  \n",
      "2    employee     0        145885      house  \n",
      "3    employee     0        267628  education  \n",
      "4     retiree     0        158616    wedding  \n",
      "5     partner     0        255763      house  \n",
      "6     partner     0        240525    housing  \n",
      "7    employee     0        135823  education  \n",
      "8    employee     0         95856    wedding  \n",
      "9    employee     0        144425      house  \n"
     ]
    }
   ],
   "source": [
    "print(df.head(10))"
   ]
  },
  {
   "cell_type": "markdown",
   "metadata": {},
   "source": [
    "### Conclusion"
   ]
  },
  {
   "cell_type": "markdown",
   "metadata": {},
   "source": [
    "This was all about the \"purpose\" column. Until we could narrow this down to fewer purposes and eliminate \"duplicate\" entries with different wording, we would not be able to fully understand the data. \n",
    "\n",
    "In our initial data observation, I noticed there was some discrepency within the \"house\" category. Specifically, \"housing transactions\" vs. \"purchasing a house.\" Knowing that, my first step here was to determine what other \"unique\" purposes people listed, which is why I started by looking at unique entries. From there, I discovered a greater number of unique entries than expected. And, without being able to get clarification from the data provider, I believe the best way to organize is into four broad categories: education, housing, car, wedding. \n",
    "\n",
    "Out of these categories, I know lemmatization can help with most of it, but the entries for \"going to university\" will overlap with \"university eduction.\" For this reason, I changed all entries with this as the listed purpose to simply \"education.\" From there, I can convert the column to a list, run a custom function to lemmatize the list, and then adjust the column to contain the new list values. \n",
    "\n",
    "Now that the \"purpose\" column is better organized, I can proceed to proper categorization of the data. After all, I still have various listings for the same purpose -time to hone that in. "
   ]
  },
  {
   "cell_type": "markdown",
   "metadata": {},
   "source": [
    "### Categorizing Data"
   ]
  },
  {
   "cell_type": "code",
   "execution_count": 47,
   "metadata": {},
   "outputs": [],
   "source": [
    "def purpose_category(purpose):\n",
    "    if purpose == 'car':\n",
    "        return 1\n",
    "    if purpose == 'house' or purpose =='housing' or purpose == 'property' or purpose == 'estate':\n",
    "        return 2\n",
    "    if purpose == 'educated' or purpose == 'education':\n",
    "        return 3\n",
    "    if purpose == 'wedding':\n",
    "        return 4"
   ]
  },
  {
   "cell_type": "code",
   "execution_count": 48,
   "metadata": {},
   "outputs": [],
   "source": [
    "df['purpose'] = df['purpose'].apply(purpose_category)"
   ]
  },
  {
   "cell_type": "code",
   "execution_count": 49,
   "metadata": {},
   "outputs": [
    {
     "name": "stdout",
     "output_type": "stream",
     "text": [
      "count      19.351000\n",
      "mean      167.421802\n",
      "std       102.971571\n",
      "min        20.667000\n",
      "25%       103.053000\n",
      "50%       145.017000\n",
      "75%       203.434500\n",
      "max      2265.604000\n",
      "Name: total_income, dtype: float64\n"
     ]
    }
   ],
   "source": [
    "print(df['total_income'].describe() / 1000)"
   ]
  },
  {
   "cell_type": "code",
   "execution_count": 50,
   "metadata": {},
   "outputs": [],
   "source": [
    "def income_level(income):\n",
    "    if income <= 50000:\n",
    "        return 'Bottom Income'\n",
    "    if income <= 100000:\n",
    "        return 'Low Income'\n",
    "    if income <= 150000: \n",
    "        return 'Middle Income'\n",
    "    if income <= 200000:\n",
    "        return 'Upper Income'\n",
    "    if income > 200000:\n",
    "        return 'Top Income'"
   ]
  },
  {
   "cell_type": "code",
   "execution_count": 51,
   "metadata": {},
   "outputs": [],
   "source": [
    "df['income_category'] = df['total_income'].apply(income_level)"
   ]
  },
  {
   "cell_type": "code",
   "execution_count": 52,
   "metadata": {},
   "outputs": [],
   "source": [
    "def children_bool(children):\n",
    "    if children == 0:\n",
    "        return 0\n",
    "    if children > 0:\n",
    "        return 1\n",
    "    return 0"
   ]
  },
  {
   "cell_type": "code",
   "execution_count": 53,
   "metadata": {},
   "outputs": [],
   "source": [
    "df['has_kids'] = df['children'].apply(children_bool)"
   ]
  },
  {
   "cell_type": "code",
   "execution_count": 54,
   "metadata": {},
   "outputs": [
    {
     "name": "stdout",
     "output_type": "stream",
     "text": [
      "   children  days_employed  dob_years  education_id  family_status_id gender  \\\n",
      "0         1           8437         42             0                 0      F   \n",
      "1         1           4024         36             1                 0      F   \n",
      "2         0           5623         33             1                 0      M   \n",
      "3         3           4124         32             1                 0      M   \n",
      "4         0         340266         53             1                 1      F   \n",
      "\n",
      "  income_type  debt  total_income  purpose income_category  has_kids  \n",
      "0    employee     0        253875        2      Top Income         1  \n",
      "1    employee     0        112080        1   Middle Income         1  \n",
      "2    employee     0        145885        2   Middle Income         0  \n",
      "3    employee     0        267628        3      Top Income         1  \n",
      "4     retiree     0        158616        4    Upper Income         0  \n"
     ]
    }
   ],
   "source": [
    "print(df.head())"
   ]
  },
  {
   "cell_type": "markdown",
   "metadata": {},
   "source": [
    "### Conclusion"
   ]
  },
  {
   "cell_type": "markdown",
   "metadata": {},
   "source": [
    "Since we decided to keep only the \"education_id\" column, we made it so the only real point of confusion could fall in the purpose column. From there, our lemmatized \"purpose\" column was the next area of focus -we wanted to make sure we were not repeating purposes with different wording and we wanted the ability to draw useful comparisons, which is why I standarized it to be numerical. \n",
    "\n",
    "1 = Car, 2= House, 3 = Education, 4 = Wedding\n",
    "\n",
    "Beyond those columns, we want to look at income and then marital status. We already know the basic marital status categories. However, for income we want to categorize our data so we can draw from ranges of income rather than just one specific income amount. This is why I viewed summary statistics for the income column. From there, I split the data accordingly into an income_category. \n",
    "\n",
    "For initial observations here, I also wanted to narrow down children into a simple \"yes/no\" column to get more broad data."
   ]
  },
  {
   "cell_type": "markdown",
   "metadata": {},
   "source": [
    "### Step 3. Answer these questions"
   ]
  },
  {
   "cell_type": "markdown",
   "metadata": {},
   "source": [
    "- Is there a relation between having kids and repaying a loan on time?"
   ]
  },
  {
   "cell_type": "code",
   "execution_count": 55,
   "metadata": {},
   "outputs": [],
   "source": [
    "from scipy.stats.stats import pearsonr"
   ]
  },
  {
   "cell_type": "code",
   "execution_count": 56,
   "metadata": {},
   "outputs": [],
   "source": [
    "import matplotlib.pyplot as plt"
   ]
  },
  {
   "cell_type": "code",
   "execution_count": 57,
   "metadata": {},
   "outputs": [
    {
     "data": {
      "text/plain": [
       "(0.03290172809317171, 4.698174866931638e-06)"
      ]
     },
     "execution_count": 57,
     "metadata": {},
     "output_type": "execute_result"
    }
   ],
   "source": [
    "pearsonr(df['has_kids'], df['debt'])"
   ]
  },
  {
   "cell_type": "code",
   "execution_count": 58,
   "metadata": {},
   "outputs": [
    {
     "data": {
      "text/plain": [
       "(0.021352951377882793, 0.002973053486565005)"
      ]
     },
     "execution_count": 58,
     "metadata": {},
     "output_type": "execute_result"
    }
   ],
   "source": [
    "pearsonr(df['children'], df['debt'])"
   ]
  },
  {
   "cell_type": "code",
   "execution_count": 59,
   "metadata": {},
   "outputs": [
    {
     "data": {
      "text/plain": [
       "<matplotlib.axes._subplots.AxesSubplot at 0x193b62646c8>"
      ]
     },
     "execution_count": 59,
     "metadata": {},
     "output_type": "execute_result"
    },
    {
     "data": {
      "image/png": "[encoded data removed]",
      "text/plain": [
       "<Figure size 432x288 with 1 Axes>"
      ]
     },
     "metadata": {
      "needs_background": "light"
     },
     "output_type": "display_data"
    }
   ],
   "source": [
    "df.plot('debt', 'children', kind='scatter', alpha=0.3)"
   ]
  },
  {
   "cell_type": "code",
   "execution_count": 60,
   "metadata": {
    "scrolled": true
   },
   "outputs": [
    {
     "data": {
      "text/html": [
       "<div>\n",
       "<style scoped>\n",
       "    .dataframe tbody tr th:only-of-type {\n",
       "        vertical-align: middle;\n",
       "    }\n",
       "\n",
       "    .dataframe tbody tr th {\n",
       "        vertical-align: top;\n",
       "    }\n",
       "\n",
       "    .dataframe thead th {\n",
       "        text-align: right;\n",
       "    }\n",
       "</style>\n",
       "<table border=\"1\" class=\"dataframe\">\n",
       "  <thead>\n",
       "    <tr style=\"text-align: right;\">\n",
       "      <th></th>\n",
       "      <th>debt</th>\n",
       "    </tr>\n",
       "    <tr>\n",
       "      <th>children</th>\n",
       "      <th></th>\n",
       "    </tr>\n",
       "  </thead>\n",
       "  <tbody>\n",
       "    <tr>\n",
       "      <td>-1</td>\n",
       "      <td>1</td>\n",
       "    </tr>\n",
       "    <tr>\n",
       "      <td>0</td>\n",
       "      <td>952</td>\n",
       "    </tr>\n",
       "    <tr>\n",
       "      <td>1</td>\n",
       "      <td>408</td>\n",
       "    </tr>\n",
       "    <tr>\n",
       "      <td>2</td>\n",
       "      <td>177</td>\n",
       "    </tr>\n",
       "    <tr>\n",
       "      <td>3</td>\n",
       "      <td>22</td>\n",
       "    </tr>\n",
       "    <tr>\n",
       "      <td>4</td>\n",
       "      <td>3</td>\n",
       "    </tr>\n",
       "    <tr>\n",
       "      <td>5</td>\n",
       "      <td>0</td>\n",
       "    </tr>\n",
       "    <tr>\n",
       "      <td>20</td>\n",
       "      <td>8</td>\n",
       "    </tr>\n",
       "  </tbody>\n",
       "</table>\n",
       "</div>"
      ],
      "text/plain": [
       "          debt\n",
       "children      \n",
       "-1           1\n",
       " 0         952\n",
       " 1         408\n",
       " 2         177\n",
       " 3          22\n",
       " 4           3\n",
       " 5           0\n",
       " 20          8"
      ]
     },
     "execution_count": 60,
     "metadata": {},
     "output_type": "execute_result"
    }
   ],
   "source": [
    "pd.pivot_table(df, index='children', values='debt', aggfunc=sum)"
   ]
  },
  {
   "cell_type": "code",
   "execution_count": 61,
   "metadata": {},
   "outputs": [],
   "source": [
    "no_kids = df[df['children'] == 0].count()"
   ]
  },
  {
   "cell_type": "code",
   "execution_count": 62,
   "metadata": {},
   "outputs": [
    {
     "name": "stdout",
     "output_type": "stream",
     "text": [
      "0.07490165224232888\n"
     ]
    }
   ],
   "source": [
    "print(952 / no_kids[1])"
   ]
  },
  {
   "cell_type": "code",
   "execution_count": 63,
   "metadata": {},
   "outputs": [],
   "source": [
    "one_kid = df[df['children'] == 1].count()"
   ]
  },
  {
   "cell_type": "code",
   "execution_count": 64,
   "metadata": {},
   "outputs": [
    {
     "name": "stdout",
     "output_type": "stream",
     "text": [
      "0.0939442781487451\n"
     ]
    }
   ],
   "source": [
    "print(408 / one_kid[1])"
   ]
  },
  {
   "cell_type": "code",
   "execution_count": 65,
   "metadata": {},
   "outputs": [],
   "source": [
    "two_kids = df[df['children'] == 2].count()"
   ]
  },
  {
   "cell_type": "code",
   "execution_count": 66,
   "metadata": {},
   "outputs": [
    {
     "name": "stdout",
     "output_type": "stream",
     "text": [
      "0.09562398703403566\n"
     ]
    }
   ],
   "source": [
    "print(177 / two_kids[1])"
   ]
  },
  {
   "cell_type": "code",
   "execution_count": 67,
   "metadata": {},
   "outputs": [],
   "source": [
    "three_kids = df[df['children'] == 3].count()"
   ]
  },
  {
   "cell_type": "code",
   "execution_count": 68,
   "metadata": {},
   "outputs": [
    {
     "name": "stdout",
     "output_type": "stream",
     "text": [
      "0.07482993197278912\n"
     ]
    }
   ],
   "source": [
    "print(22 / three_kids[1])"
   ]
  },
  {
   "cell_type": "code",
   "execution_count": 69,
   "metadata": {
    "scrolled": true
   },
   "outputs": [],
   "source": [
    "four_kids = df[df['children'] == 4].count()"
   ]
  },
  {
   "cell_type": "code",
   "execution_count": 70,
   "metadata": {},
   "outputs": [
    {
     "name": "stdout",
     "output_type": "stream",
     "text": [
      "0.08823529411764706\n"
     ]
    }
   ],
   "source": [
    "print(3 / four_kids[1])"
   ]
  },
  {
   "cell_type": "code",
   "execution_count": 71,
   "metadata": {
    "scrolled": true
   },
   "outputs": [],
   "source": [
    "five_kids = df[df['children'] == 5].count()"
   ]
  },
  {
   "cell_type": "code",
   "execution_count": 72,
   "metadata": {},
   "outputs": [
    {
     "name": "stdout",
     "output_type": "stream",
     "text": [
      "8\n"
     ]
    }
   ],
   "source": [
    "print(five_kids[1])"
   ]
  },
  {
   "cell_type": "code",
   "execution_count": 73,
   "metadata": {
    "scrolled": true
   },
   "outputs": [],
   "source": [
    "twenty_kids = df[df['children'] == 20].count()"
   ]
  },
  {
   "cell_type": "code",
   "execution_count": 74,
   "metadata": {},
   "outputs": [
    {
     "name": "stdout",
     "output_type": "stream",
     "text": [
      "0.11940298507462686\n"
     ]
    }
   ],
   "source": [
    "print(8 / twenty_kids[1])"
   ]
  },
  {
   "cell_type": "code",
   "execution_count": 75,
   "metadata": {},
   "outputs": [
    {
     "name": "stdout",
     "output_type": "stream",
     "text": [
      "67\n"
     ]
    }
   ],
   "source": [
    "print(twenty_kids[1])"
   ]
  },
  {
   "cell_type": "markdown",
   "metadata": {},
   "source": [
    "### Conclusion"
   ]
  },
  {
   "cell_type": "markdown",
   "metadata": {},
   "source": [
    "At first, there doesn't appear to be a measurable relationship between having children and repaying loans on time. This is true both in checking as a simple \"yes/no\" of whether they have children and also in looking at the number of children they have. We can see this both with the pearson correlation and with the scatterplot. \n",
    "\n",
    "However, upon looking further, it seems there is some connection as seen in the pivot table. Here we see those with 0 children have defaulted more than those with children. But, if we examine these results as a ratio, we realize that's because most loan applicants had no children. Looking further, people with 1-2 kids tend to have a much higher default rate. And, while the number of data points is low, those with 20 reported kids had the highest default rate. "
   ]
  },
  {
   "cell_type": "markdown",
   "metadata": {},
   "source": [
    "- Is there a relation between marital status and repaying a loan on time?"
   ]
  },
  {
   "cell_type": "code",
   "execution_count": 76,
   "metadata": {
    "scrolled": true
   },
   "outputs": [
    {
     "data": {
      "text/plain": [
       "(0.022322890477893563, 0.001899729578767337)"
      ]
     },
     "execution_count": 76,
     "metadata": {},
     "output_type": "execute_result"
    }
   ],
   "source": [
    "pearsonr(df['family_status_id'], df['debt'])"
   ]
  },
  {
   "cell_type": "code",
   "execution_count": 77,
   "metadata": {},
   "outputs": [
    {
     "data": {
      "text/plain": [
       "<matplotlib.axes._subplots.AxesSubplot at 0x193b65087c8>"
      ]
     },
     "execution_count": 77,
     "metadata": {},
     "output_type": "execute_result"
    },
    {
     "data": {
      "image/png": "[encoded data removed]",
      "text/plain": [
       "<Figure size 432x288 with 1 Axes>"
      ]
     },
     "metadata": {
      "needs_background": "light"
     },
     "output_type": "display_data"
    }
   ],
   "source": [
    "df.plot('debt', 'family_status_id', kind='scatter', title='Family Status Affecting Debt', alpha=0.1)"
   ]
  },
  {
   "cell_type": "code",
   "execution_count": 78,
   "metadata": {},
   "outputs": [
    {
     "data": {
      "text/html": [
       "<div>\n",
       "<style scoped>\n",
       "    .dataframe tbody tr th:only-of-type {\n",
       "        vertical-align: middle;\n",
       "    }\n",
       "\n",
       "    .dataframe tbody tr th {\n",
       "        vertical-align: top;\n",
       "    }\n",
       "\n",
       "    .dataframe thead th {\n",
       "        text-align: right;\n",
       "    }\n",
       "</style>\n",
       "<table border=\"1\" class=\"dataframe\">\n",
       "  <thead>\n",
       "    <tr style=\"text-align: right;\">\n",
       "      <th></th>\n",
       "      <th>debt</th>\n",
       "    </tr>\n",
       "    <tr>\n",
       "      <th>family_status_id</th>\n",
       "      <th></th>\n",
       "    </tr>\n",
       "  </thead>\n",
       "  <tbody>\n",
       "    <tr>\n",
       "      <td>0</td>\n",
       "      <td>846</td>\n",
       "    </tr>\n",
       "    <tr>\n",
       "      <td>1</td>\n",
       "      <td>339</td>\n",
       "    </tr>\n",
       "    <tr>\n",
       "      <td>2</td>\n",
       "      <td>56</td>\n",
       "    </tr>\n",
       "    <tr>\n",
       "      <td>3</td>\n",
       "      <td>76</td>\n",
       "    </tr>\n",
       "    <tr>\n",
       "      <td>4</td>\n",
       "      <td>254</td>\n",
       "    </tr>\n",
       "  </tbody>\n",
       "</table>\n",
       "</div>"
      ],
      "text/plain": [
       "                  debt\n",
       "family_status_id      \n",
       "0                  846\n",
       "1                  339\n",
       "2                   56\n",
       "3                   76\n",
       "4                  254"
      ]
     },
     "execution_count": 78,
     "metadata": {},
     "output_type": "execute_result"
    }
   ],
   "source": [
    "pd.pivot_table(df, index='family_status_id', values='debt', aggfunc=sum,)"
   ]
  },
  {
   "cell_type": "code",
   "execution_count": 79,
   "metadata": {},
   "outputs": [],
   "source": [
    "married = df[df['family_status_id'] == 0].count()"
   ]
  },
  {
   "cell_type": "code",
   "execution_count": 80,
   "metadata": {},
   "outputs": [
    {
     "name": "stdout",
     "output_type": "stream",
     "text": [
      "0.07592210356277483\n"
     ]
    }
   ],
   "source": [
    "print(846 / married[1])"
   ]
  },
  {
   "cell_type": "code",
   "execution_count": 81,
   "metadata": {},
   "outputs": [],
   "source": [
    "civil_part = df[df['family_status_id'] == 1].count()"
   ]
  },
  {
   "cell_type": "code",
   "execution_count": 82,
   "metadata": {},
   "outputs": [
    {
     "name": "stdout",
     "output_type": "stream",
     "text": [
      "0.09076305220883533\n"
     ]
    }
   ],
   "source": [
    "print(339 / civil_part[1])"
   ]
  },
  {
   "cell_type": "code",
   "execution_count": 83,
   "metadata": {},
   "outputs": [],
   "source": [
    "widow = df[df['family_status_id'] == 2].count()"
   ]
  },
  {
   "cell_type": "code",
   "execution_count": 84,
   "metadata": {},
   "outputs": [
    {
     "name": "stdout",
     "output_type": "stream",
     "text": [
      "0.06473988439306358\n"
     ]
    }
   ],
   "source": [
    "print(56 / widow[1])"
   ]
  },
  {
   "cell_type": "code",
   "execution_count": 85,
   "metadata": {},
   "outputs": [],
   "source": [
    "divorced = df[df['family_status_id'] == 3].count()"
   ]
  },
  {
   "cell_type": "code",
   "execution_count": 86,
   "metadata": {},
   "outputs": [
    {
     "name": "stdout",
     "output_type": "stream",
     "text": [
      "0.07017543859649122\n"
     ]
    }
   ],
   "source": [
    "print(76 / divorced[1])"
   ]
  },
  {
   "cell_type": "code",
   "execution_count": 87,
   "metadata": {},
   "outputs": [],
   "source": [
    "unmarried = df[df['family_status_id'] == 4].count()"
   ]
  },
  {
   "cell_type": "code",
   "execution_count": 88,
   "metadata": {},
   "outputs": [
    {
     "name": "stdout",
     "output_type": "stream",
     "text": [
      "0.1005940594059406\n"
     ]
    }
   ],
   "source": [
    "print(254 / unmarried[1])"
   ]
  },
  {
   "cell_type": "markdown",
   "metadata": {},
   "source": [
    "### Conclusion"
   ]
  },
  {
   "cell_type": "markdown",
   "metadata": {},
   "source": [
    "There seems to be even less of a notable relationship here in terms of family status. In other words, regardless of the relationship status, people don't have a strong inclination one way or another. We can see this both with the pearson correlation and with the scatterplot. \n",
    "\n",
    "First looking at the pivot table, those who are married appear to be those who most frequently default on their debt. But, digging into the ratios, we see that unmarried people default at 10% and those with civil partnerships at 9%, both being much higher than the 7.6% for married couples. "
   ]
  },
  {
   "cell_type": "markdown",
   "metadata": {},
   "source": [
    "- Is there a relation between income level and repaying a loan on time?"
   ]
  },
  {
   "cell_type": "code",
   "execution_count": 89,
   "metadata": {},
   "outputs": [
    {
     "data": {
      "text/plain": [
       "(-0.012475017074698868, 0.08268263766713692)"
      ]
     },
     "execution_count": 89,
     "metadata": {},
     "output_type": "execute_result"
    }
   ],
   "source": [
    "pearsonr(df['total_income'], df['debt'])"
   ]
  },
  {
   "cell_type": "code",
   "execution_count": 90,
   "metadata": {
    "scrolled": true
   },
   "outputs": [
    {
     "data": {
      "text/plain": [
       "<matplotlib.axes._subplots.AxesSubplot at 0x193b6571808>"
      ]
     },
     "execution_count": 90,
     "metadata": {},
     "output_type": "execute_result"
    },
    {
     "data": {
      "image/png": "[encoded data removed]",
      "text/plain": [
       "<Figure size 432x288 with 1 Axes>"
      ]
     },
     "metadata": {
      "needs_background": "light"
     },
     "output_type": "display_data"
    }
   ],
   "source": [
    "df.plot('debt', 'total_income', kind='scatter', title='Total Income Affecting Debt', alpha=0.2)"
   ]
  },
  {
   "cell_type": "code",
   "execution_count": 91,
   "metadata": {
    "scrolled": true
   },
   "outputs": [
    {
     "data": {
      "text/html": [
       "<div>\n",
       "<style scoped>\n",
       "    .dataframe tbody tr th:only-of-type {\n",
       "        vertical-align: middle;\n",
       "    }\n",
       "\n",
       "    .dataframe tbody tr th {\n",
       "        vertical-align: top;\n",
       "    }\n",
       "\n",
       "    .dataframe thead th {\n",
       "        text-align: right;\n",
       "    }\n",
       "</style>\n",
       "<table border=\"1\" class=\"dataframe\">\n",
       "  <thead>\n",
       "    <tr style=\"text-align: right;\">\n",
       "      <th></th>\n",
       "      <th>debt</th>\n",
       "    </tr>\n",
       "    <tr>\n",
       "      <th>income_category</th>\n",
       "      <th></th>\n",
       "    </tr>\n",
       "  </thead>\n",
       "  <tbody>\n",
       "    <tr>\n",
       "      <td>Bottom Income</td>\n",
       "      <td>23</td>\n",
       "    </tr>\n",
       "    <tr>\n",
       "      <td>Low Income</td>\n",
       "      <td>331</td>\n",
       "    </tr>\n",
       "    <tr>\n",
       "      <td>Middle Income</td>\n",
       "      <td>491</td>\n",
       "    </tr>\n",
       "    <tr>\n",
       "      <td>Top Income</td>\n",
       "      <td>358</td>\n",
       "    </tr>\n",
       "    <tr>\n",
       "      <td>Upper Income</td>\n",
       "      <td>368</td>\n",
       "    </tr>\n",
       "  </tbody>\n",
       "</table>\n",
       "</div>"
      ],
      "text/plain": [
       "                 debt\n",
       "income_category      \n",
       "Bottom Income      23\n",
       "Low Income        331\n",
       "Middle Income     491\n",
       "Top Income        358\n",
       "Upper Income      368"
      ]
     },
     "execution_count": 91,
     "metadata": {},
     "output_type": "execute_result"
    }
   ],
   "source": [
    "pd.pivot_table(df, index='income_category', values='debt', aggfunc=sum)"
   ]
  },
  {
   "cell_type": "code",
   "execution_count": 92,
   "metadata": {},
   "outputs": [],
   "source": [
    "bottom = df[df['income_category'] == 'Bottom Income'].count()"
   ]
  },
  {
   "cell_type": "code",
   "execution_count": 93,
   "metadata": {},
   "outputs": [
    {
     "name": "stdout",
     "output_type": "stream",
     "text": [
      "0.20430107526881722\n"
     ]
    }
   ],
   "source": [
    "print(76 / bottom[1])"
   ]
  },
  {
   "cell_type": "code",
   "execution_count": 94,
   "metadata": {},
   "outputs": [
    {
     "name": "stdout",
     "output_type": "stream",
     "text": [
      "372\n"
     ]
    }
   ],
   "source": [
    "print(bottom[1])"
   ]
  },
  {
   "cell_type": "code",
   "execution_count": 95,
   "metadata": {},
   "outputs": [],
   "source": [
    "low = df[df['income_category'] == 'Low Income'].count()"
   ]
  },
  {
   "cell_type": "code",
   "execution_count": 96,
   "metadata": {},
   "outputs": [
    {
     "name": "stdout",
     "output_type": "stream",
     "text": [
      "0.018577364947445614\n"
     ]
    }
   ],
   "source": [
    "print(76 / low[1])"
   ]
  },
  {
   "cell_type": "code",
   "execution_count": 97,
   "metadata": {},
   "outputs": [],
   "source": [
    "middle = df[df['income_category'] == 'Middle Income'].count()"
   ]
  },
  {
   "cell_type": "code",
   "execution_count": 98,
   "metadata": {},
   "outputs": [
    {
     "name": "stdout",
     "output_type": "stream",
     "text": [
      "0.01332398316970547\n"
     ]
    }
   ],
   "source": [
    "print(76 / middle[1])"
   ]
  },
  {
   "cell_type": "code",
   "execution_count": 99,
   "metadata": {},
   "outputs": [],
   "source": [
    "top = df[df['income_category'] == 'Top Income'].count()"
   ]
  },
  {
   "cell_type": "code",
   "execution_count": 100,
   "metadata": {},
   "outputs": [
    {
     "name": "stdout",
     "output_type": "stream",
     "text": [
      "0.015001973943939992\n"
     ]
    }
   ],
   "source": [
    "print(76 / top[1])"
   ]
  },
  {
   "cell_type": "code",
   "execution_count": 101,
   "metadata": {},
   "outputs": [],
   "source": [
    "upper = df[df['income_category'] == 'Upper Income'].count()"
   ]
  },
  {
   "cell_type": "code",
   "execution_count": 102,
   "metadata": {},
   "outputs": [
    {
     "name": "stdout",
     "output_type": "stream",
     "text": [
      "0.018455560951918408\n"
     ]
    }
   ],
   "source": [
    "print(76 / upper[1])"
   ]
  },
  {
   "cell_type": "markdown",
   "metadata": {},
   "source": [
    "### Conclusion"
   ]
  },
  {
   "cell_type": "markdown",
   "metadata": {},
   "source": [
    "From both our graph and pivot table, we can see here that income has a very weak relationship to debt repayment. Specifically, we can see there is a larger concentraton of loans to those in the lower and middle income tiers for both repayment and defaults. We can see this both with the pearson correlation and with the scatterplot. \n",
    "\n",
    "And, when we look at those who did default vs. those who didn't, we see more often than not those at higher income levels didn't default. However, there is definitely a higher number of defaults among the upper and top income levels. \n",
    "\n",
    "When we dig into this and look at percentages, we do see a very slight increase in percentage of defaults for those in upper and lower income levels. This suggests those above or below the mean income can be at risk. But, the difference is negligible. Instead, the big risk here is for those on the bottom income level, where 20% of the people default. Still, since there are only a few hundred in this category, I'd like additional data points to really determine if this holds true at higher levels. "
   ]
  },
  {
   "cell_type": "markdown",
   "metadata": {},
   "source": [
    "- How do different loan purposes affect on-time repayment of the loan?"
   ]
  },
  {
   "cell_type": "code",
   "execution_count": 103,
   "metadata": {},
   "outputs": [
    {
     "data": {
      "text/plain": [
       "(-0.007807649471543341, 0.2774560341795818)"
      ]
     },
     "execution_count": 103,
     "metadata": {},
     "output_type": "execute_result"
    }
   ],
   "source": [
    "pearsonr(df['purpose'], df['debt'])"
   ]
  },
  {
   "cell_type": "code",
   "execution_count": 104,
   "metadata": {},
   "outputs": [
    {
     "data": {
      "text/plain": [
       "<matplotlib.axes._subplots.AxesSubplot at 0x193b64ff8c8>"
      ]
     },
     "execution_count": 104,
     "metadata": {},
     "output_type": "execute_result"
    },
    {
     "data": {
      "image/png": "[encoded data removed]",
      "text/plain": [
       "<Figure size 432x288 with 1 Axes>"
      ]
     },
     "metadata": {
      "needs_background": "light"
     },
     "output_type": "display_data"
    }
   ],
   "source": [
    "df.plot('debt', 'purpose', kind='scatter', title='Purpose Affecting Debt', alpha=0.1)"
   ]
  },
  {
   "cell_type": "code",
   "execution_count": 105,
   "metadata": {},
   "outputs": [
    {
     "data": {
      "text/html": [
       "<div>\n",
       "<style scoped>\n",
       "    .dataframe tbody tr th:only-of-type {\n",
       "        vertical-align: middle;\n",
       "    }\n",
       "\n",
       "    .dataframe tbody tr th {\n",
       "        vertical-align: top;\n",
       "    }\n",
       "\n",
       "    .dataframe thead th {\n",
       "        text-align: right;\n",
       "    }\n",
       "</style>\n",
       "<table border=\"1\" class=\"dataframe\">\n",
       "  <thead>\n",
       "    <tr style=\"text-align: right;\">\n",
       "      <th></th>\n",
       "      <th>debt</th>\n",
       "    </tr>\n",
       "    <tr>\n",
       "      <th>purpose</th>\n",
       "      <th></th>\n",
       "    </tr>\n",
       "  </thead>\n",
       "  <tbody>\n",
       "    <tr>\n",
       "      <td>1</td>\n",
       "      <td>367</td>\n",
       "    </tr>\n",
       "    <tr>\n",
       "      <td>2</td>\n",
       "      <td>715</td>\n",
       "    </tr>\n",
       "    <tr>\n",
       "      <td>3</td>\n",
       "      <td>331</td>\n",
       "    </tr>\n",
       "    <tr>\n",
       "      <td>4</td>\n",
       "      <td>158</td>\n",
       "    </tr>\n",
       "  </tbody>\n",
       "</table>\n",
       "</div>"
      ],
      "text/plain": [
       "         debt\n",
       "purpose      \n",
       "1         367\n",
       "2         715\n",
       "3         331\n",
       "4         158"
      ]
     },
     "execution_count": 105,
     "metadata": {},
     "output_type": "execute_result"
    }
   ],
   "source": [
    "pd.pivot_table(df, index='purpose', values='debt', aggfunc=sum)"
   ]
  },
  {
   "cell_type": "code",
   "execution_count": 106,
   "metadata": {},
   "outputs": [],
   "source": [
    "car = df[df['purpose'] == 1].count()"
   ]
  },
  {
   "cell_type": "code",
   "execution_count": 107,
   "metadata": {},
   "outputs": [
    {
     "name": "stdout",
     "output_type": "stream",
     "text": [
      "0.09417500641519118\n"
     ]
    }
   ],
   "source": [
    "print(367 / car[1])"
   ]
  },
  {
   "cell_type": "code",
   "execution_count": 108,
   "metadata": {},
   "outputs": [],
   "source": [
    "house = df[df['purpose'] == 2].count()"
   ]
  },
  {
   "cell_type": "code",
   "execution_count": 109,
   "metadata": {},
   "outputs": [
    {
     "name": "stdout",
     "output_type": "stream",
     "text": [
      "0.07327321172371387\n"
     ]
    }
   ],
   "source": [
    "print(715 / house[1])"
   ]
  },
  {
   "cell_type": "code",
   "execution_count": 110,
   "metadata": {},
   "outputs": [],
   "source": [
    "education = df[df['purpose'] == 3].count()"
   ]
  },
  {
   "cell_type": "code",
   "execution_count": 111,
   "metadata": {},
   "outputs": [
    {
     "name": "stdout",
     "output_type": "stream",
     "text": [
      "0.09202112871837642\n"
     ]
    }
   ],
   "source": [
    "print(331 / education[1])"
   ]
  },
  {
   "cell_type": "code",
   "execution_count": 112,
   "metadata": {},
   "outputs": [],
   "source": [
    "wedding = df[df['purpose'] == 4].count()"
   ]
  },
  {
   "cell_type": "code",
   "execution_count": 113,
   "metadata": {},
   "outputs": [
    {
     "name": "stdout",
     "output_type": "stream",
     "text": [
      "0.07527393997141496\n"
     ]
    }
   ],
   "source": [
    "print(158 / wedding[1])"
   ]
  },
  {
   "cell_type": "markdown",
   "metadata": {},
   "source": [
    "### Conclusion"
   ]
  },
  {
   "cell_type": "markdown",
   "metadata": {},
   "source": [
    "There doesn't seem to be much of a relationship at first glance. We can see this both with the pearson correlation and with the scatterplot. Once again, our pivot table seems to offer the most insight. We can see that home loans are the most often defaulted on. However, when we dig into ratios, we see this is because there are a larger number of loans recorded for housing purposes. Instead, it looks like car loans are the most often defaulted on, followed closely by education. "
   ]
  },
  {
   "cell_type": "markdown",
   "metadata": {},
   "source": [
    "### Step 4. General conclusion"
   ]
  },
  {
   "cell_type": "markdown",
   "metadata": {},
   "source": [
    "Overall, we can see in each of the examined qualities how likely they were to default on a loan. We found that those with 2-3 kids are more likely to default. And, though the sample size was small, we also found those with 20 kids are the most likely to default. From there, we see car and education loans are the most likely to default. And, we also see unmarried people are more likely. For income, it looks like the lowest income level is most at risk, but the sample size for these loans is relatively small too, so more data might be helpful. \n",
    "\n",
    "I hope later in my education I can revisit this data and perform some additional exploration in terms of interrelationships between the variables. Perhaps even see if I could create an effective machine learning model that could predict liklihood of defaulting based on these paramters. "
   ]
  }
 ],
 "metadata": {
  "kernelspec": {
   "display_name": "Python 3",
   "language": "python",
   "name": "python3"
  },
  "language_info": {
   "codemirror_mode": {
    "name": "ipython",
    "version": 3
   },
   "file_extension": ".py",
   "mimetype": "text/x-python",
   "name": "python",
   "nbconvert_exporter": "python",
   "pygments_lexer": "ipython3",
   "version": "3.7.4"
  }
 },
 "nbformat": 4,
 "nbformat_minor": 2
}
